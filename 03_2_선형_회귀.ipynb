{
  "nbformat": 4,
  "nbformat_minor": 0,
  "metadata": {
    "colab": {
      "name": "03-2 선형 회귀",
      "provenance": []
    },
    "kernelspec": {
      "name": "python3",
      "display_name": "Python 3"
    },
    "language_info": {
      "name": "python"
    }
  },
  "cells": [
    {
      "cell_type": "code",
      "execution_count": null,
      "metadata": {
        "id": "SSpkERb9rx93"
      },
      "outputs": [],
      "source": [
        "import numpy as np\n",
        "perch_length = np.array([8.4, 13.7, 15.0, 16.2, 17.4, 18.0, 18.7, 19.0, 19.6, 20.0, 21.0,\n",
        "       21.0, 21.0, 21.3, 22.0, 22.0, 22.0, 22.0, 22.0, 22.5, 22.5, 22.7,\n",
        "       23.0, 23.5, 24.0, 24.0, 24.6, 25.0, 25.6, 26.5, 27.3, 27.5, 27.5,\n",
        "       27.5, 28.0, 28.7, 30.0, 32.8, 34.5, 35.0, 36.5, 36.0, 37.0, 37.0,\n",
        "       39.0, 39.0, 39.0, 40.0, 40.0, 40.0, 40.0, 42.0, 43.0, 43.0, 43.5,\n",
        "       44.0])\n",
        "perch_weight = np.array([5.9, 32.0, 40.0, 51.5, 70.0, 100.0, 78.0, 80.0, 85.0, 85.0, 110.0,\n",
        "       115.0, 125.0, 130.0, 120.0, 120.0, 130.0, 135.0, 110.0, 130.0,\n",
        "       150.0, 145.0, 150.0, 170.0, 225.0, 145.0, 188.0, 180.0, 197.0,\n",
        "       218.0, 300.0, 260.0, 265.0, 250.0, 250.0, 300.0, 320.0, 514.0,\n",
        "       556.0, 840.0, 685.0, 700.0, 700.0, 690.0, 900.0, 650.0, 820.0,\n",
        "       850.0, 900.0, 1015.0, 820.0, 1100.0, 1000.0, 1100.0, 1000.0,\n",
        "       1000.0])"
      ]
    },
    {
      "cell_type": "code",
      "source": [
        "#훈련 세트와 테스트 세트로 나눔\n",
        "from sklearn.model_selection import train_test_split\n",
        "train_input, test_input, train_target, test_target = train_test_split(perch_length, perch_weight, random_state = 42)\n",
        "\n",
        "#훈련 세트와 테스트 세트를 2차원 배열로 바꿈\n",
        "train_input = train_input.reshape(-1,1)\n",
        "test_input  = test_input.reshape(-1,1)"
      ],
      "metadata": {
        "id": "xtDyz2JEsNwz"
      },
      "execution_count": null,
      "outputs": []
    },
    {
      "cell_type": "code",
      "source": [
        "#k-최근접 이웃 회귀 모델 훈련\n",
        "from sklearn.neighbors import KNeighborsRegressor\n",
        "knr = KNeighborsRegressor(n_neighbors = 3)\n",
        "knr.fit(train_input, train_target)"
      ],
      "metadata": {
        "colab": {
          "base_uri": "https://localhost:8080/"
        },
        "id": "icSNRoDEtBq6",
        "outputId": "07ca4b42-f8f7-4252-a01d-c45d9dd39c8d"
      },
      "execution_count": null,
      "outputs": [
        {
          "output_type": "execute_result",
          "data": {
            "text/plain": [
              "KNeighborsRegressor(n_neighbors=3)"
            ]
          },
          "metadata": {},
          "execution_count": 4
        }
      ]
    },
    {
      "cell_type": "code",
      "source": [
        "#모델 테스트\n",
        "#실제 값보다 더 적은 수가 나옴\n",
        "print(knr.predict([[50]]))"
      ],
      "metadata": {
        "colab": {
          "base_uri": "https://localhost:8080/"
        },
        "id": "VPPW5tZztWD_",
        "outputId": "b6f63563-bc71-48e0-e4d6-61570e0a554d"
      },
      "execution_count": null,
      "outputs": [
        {
          "output_type": "stream",
          "name": "stdout",
          "text": [
            "[1033.33333333]\n"
          ]
        }
      ]
    },
    {
      "cell_type": "code",
      "source": [
        "import matplotlib.pyplot as plt\n",
        "#길이가 50cm인 농어의 최근접 이웃 3마리의 정보를 저장\n",
        "distances, indexes = knr.kneighbors([[50]])\n",
        "\n",
        "#훈련 세트의 산점도를 그림\n",
        "plt.scatter(train_input, train_target)\n",
        "#훈련 세트 중에서 이웃 샘플만 다시 그림\n",
        "plt.scatter(train_input[indexes], train_target[indexes], marker = 'D')\n",
        "#50cm 농어 데이터\n",
        "plt.scatter(50, 1033, marker='^')\n",
        "\n",
        "plt.xlabel('length')\n",
        "plt.ylabel('weight')\n",
        "plt.show()\n"
      ],
      "metadata": {
        "colab": {
          "base_uri": "https://localhost:8080/",
          "height": 279
        },
        "id": "XnADNCLqtnwB",
        "outputId": "fffb52c6-daf0-461e-8beb-4ae77032198a"
      },
      "execution_count": null,
      "outputs": [
        {
          "output_type": "display_data",
          "data": {
            "image/png": "[encoded data removed]",
            "text/plain": [
              "<Figure size 432x288 with 1 Axes>"
            ]
          },
          "metadata": {
            "needs_background": "light"
          }
        }
      ]
    },
    {
      "cell_type": "markdown",
      "source": [
        "\n",
        "\n",
        "---\n",
        "\n",
        "\n",
        "\n",
        "*   길이가 50cm인 농어는 삼각형으로 표시됨\n",
        "*   길이가 50cm인 농어의 최근접 이웃 샘플은 길이가 45인 농어의\n",
        "데이터까지만 있었기 때문에 벌어진 오류임\n",
        "*   데이터가 방대했다면 회귀 모델이 원래 몸무게와 근접하게 측정했을 것임\n",
        "*   또한, 45 이상의 농어의 무게를 측정하려하면 똑같이 1033.33..g으로 예측할 것임\n",
        "\n",
        "---\n",
        "\n",
        "\n",
        "\n",
        "\n"
      ],
      "metadata": {
        "id": "aNv08Dy5vLPF"
      }
    },
    {
      "cell_type": "code",
      "source": [
        "print(np.mean(train_target[indexes]))"
      ],
      "metadata": {
        "colab": {
          "base_uri": "https://localhost:8080/"
        },
        "id": "hK90z-FzvArX",
        "outputId": "17d2f328-0bbd-4df0-e766-0cff7868a186"
      },
      "execution_count": null,
      "outputs": [
        {
          "output_type": "stream",
          "name": "stdout",
          "text": [
            "1033.3333333333333\n"
          ]
        }
      ]
    },
    {
      "cell_type": "code",
      "source": [
        "#길이가 100cm인 농어의 무게를 예측해봄\n",
        "distances, indexes = knr.kneighbors([[100]])\n",
        "\n",
        "#훈련 세트의 산점도를 그림\n",
        "plt.scatter(train_input, train_target)\n",
        "#훈련 세트 중에서 이웃 샘플만 다시 그림\n",
        "plt.scatter(train_input[indexes], train_target[indexes], marker = 'D')\n",
        "#100cm 농어 데이터\n",
        "plt.scatter(100,1033, marker = '^')\n",
        "\n",
        "plt.xlabel('length')\n",
        "plt.ylabel('weight')\n",
        "plt.show()"
      ],
      "metadata": {
        "colab": {
          "base_uri": "https://localhost:8080/",
          "height": 279
        },
        "id": "MCEkNcDjwVIX",
        "outputId": "a9204d58-3570-4a79-dee8-93a74b4afce9"
      },
      "execution_count": null,
      "outputs": [
        {
          "output_type": "display_data",
          "data": {
            "image/png": "[encoded data removed]",
            "text/plain": [
              "<Figure size 432x288 with 1 Axes>"
            ]
          },
          "metadata": {
            "needs_background": "light"
          }
        }
      ]
    },
    {
      "cell_type": "code",
      "source": [
        "#그리고 100cm 길이의 농어의 예측한 무게를 출력해 봄\n",
        "print(knr.predict([[100]]))\n",
        "#직접 최근접 이웃의 평균을 내 봄\n",
        "print(np.mean(train_target[indexes]))"
      ],
      "metadata": {
        "colab": {
          "base_uri": "https://localhost:8080/"
        },
        "id": "ryHGeETfxLx_",
        "outputId": "0b55ec99-36e4-440c-df03-04ae590208ac"
      },
      "execution_count": null,
      "outputs": [
        {
          "output_type": "stream",
          "name": "stdout",
          "text": [
            "[1033.33333333]\n",
            "1033.3333333333333\n"
          ]
        }
      ]
    },
    {
      "cell_type": "markdown",
      "source": [
        "\n",
        "\n",
        "---\n",
        "\n",
        "\n",
        "\n",
        "---\n",
        "\n"
      ],
      "metadata": {
        "id": "EUK0k5J4yXzW"
      }
    },
    {
      "cell_type": "code",
      "source": [
        "#sklearn의 선형 회귀(linear regression)을 이용하여 45cm이상의 농어의 무게 예측\n",
        "from sklearn.linear_model import LinearRegression\n",
        "lr = LinearRegression()\n",
        "\n",
        "# 선형 회귀 모델을 훈련\n",
        "lr.fit(train_input, train_target)\n",
        "\n",
        "#50cm 농어에 대해 예측함\n",
        "print(lr.predict([[50]]))"
      ],
      "metadata": {
        "colab": {
          "base_uri": "https://localhost:8080/"
        },
        "id": "zrkrYcZzxVZ0",
        "outputId": "605f8af7-09e4-4af6-849c-73fb5f1b000b"
      },
      "execution_count": null,
      "outputs": [
        {
          "output_type": "stream",
          "name": "stdout",
          "text": [
            "[1241.83860323]\n"
          ]
        }
      ]
    },
    {
      "cell_type": "markdown",
      "source": [
        "\n",
        "\n",
        "---\n",
        "\n",
        "\n",
        "\n",
        "# 선형 회귀 모델\n",
        "*   데이터의 x, y값을 토대로 y = ax + b일 때, 데이터에 들어맞는 a, b의 값을\n",
        "찾아주는 알고리즘이다.\n",
        "*  a(기울기, 계수, 가중치)는 lr.coef_에, b(y절편)은 lr.intercept_에 저장돼 있다.\n",
        "\n",
        "---\n",
        "\n",
        "\n",
        "\n"
      ],
      "metadata": {
        "id": "tWynOz-tzGiS"
      }
    },
    {
      "cell_type": "code",
      "source": [
        "print(lr.coef_, lr.intercept_)"
      ],
      "metadata": {
        "colab": {
          "base_uri": "https://localhost:8080/"
        },
        "id": "nMsyevYgzwrf",
        "outputId": "487cfb5a-60d7-471f-ecf7-1cd6e90a95bc"
      },
      "execution_count": null,
      "outputs": [
        {
          "output_type": "stream",
          "name": "stdout",
          "text": [
            "[39.01714496] -709.0186449535477\n"
          ]
        }
      ]
    },
    {
      "cell_type": "code",
      "source": [
        "#훈련 세트의 산점도를 그림\n",
        "plt.scatter(train_input, train_target)\n",
        "\n",
        "# 15에서 50까지 1차 방적식 그래프를 그림\n",
        "# (x,y) 순서쌍으로 입력해야 함\n",
        "plt.plot([15,50],[15*lr.coef_ + lr.intercept_, 50*lr.coef_ + lr.intercept_])\n",
        "\n",
        "#50cm 농어 데이터\n",
        "plt.scatter(50, 1241.8, marker='^')\n",
        "plt.xlabel('length')\n",
        "plt.ylabel('weight')\n",
        "plt.show()\n"
      ],
      "metadata": {
        "colab": {
          "base_uri": "https://localhost:8080/",
          "height": 279
        },
        "id": "zN1pumkp0D96",
        "outputId": "87851c07-eda4-486a-aa6d-3b482d8cf7d7"
      },
      "execution_count": null,
      "outputs": [
        {
          "output_type": "display_data",
          "data": {
            "image/png": "[encoded data removed]",
            "text/plain": [
              "<Figure size 432x288 with 1 Axes>"
            ]
          },
          "metadata": {
            "needs_background": "light"
          }
        }
      ]
    },
    {
      "cell_type": "markdown",
      "source": [
        "\n",
        "\n",
        "---\n",
        "\n",
        "\n",
        "\n",
        "*   위의 직선이 선형 회귀 알고리즘이 농어 데이터셋에서 찾은 최적의 직선이다.\n",
        "*   길이가 50cm인 농어에 대한 예측은 이 직선의 연장선위에 놓여있다.\n",
        "*   이를 토대로 데이터 범위를 벗어난 샘플의 무게도 측정할 수 있게 되었다.\n",
        "\n",
        "---\n",
        "\n",
        "\n",
        "\n"
      ],
      "metadata": {
        "id": "_tFVsqGQ1nVl"
      }
    },
    {
      "cell_type": "code",
      "source": [
        "#아재 과대·과소적합인지 알아봄\n",
        "print(lr.score(train_input,train_target))\n",
        "print(lr.score(test_input, test_target))\n",
        "# 선형 회귀 모델이 훈련 세트에 과대적합 되었음\n",
        "# 전체적으로 점수가 낮아 과소적합이라고도 볼 수 있음\n",
        "# 그래프를 살펴본 결과, 위의 데이터셋에는 이차곡선이 좀 더 잘 어울이는 예측값임\n",
        "# 그러기 위해서는 ax^2 + bx + c 형태로, x에 해당하는 길이를 제곱한 항이\n",
        "# 훈련 데이터에 포함 되어야 함"
      ],
      "metadata": {
        "colab": {
          "base_uri": "https://localhost:8080/"
        },
        "id": "ekEQ80N418rC",
        "outputId": "9cf17e4d-76c9-47a7-8ceb-d44de9803738"
      },
      "execution_count": null,
      "outputs": [
        {
          "output_type": "stream",
          "name": "stdout",
          "text": [
            "0.939846333997604\n",
            "0.8247503123313558\n"
          ]
        }
      ]
    },
    {
      "cell_type": "code",
      "source": [
        "#배열을 붙여주는 column_stack()함수를 이용하여 train_input을 제곱한 것을 train_input에 덧붙임 단, 튜플 형태로 전달해야 함!!!!\n",
        "train_ploy = np.column_stack((train_input**2, train_input))\n",
        "test_ploy  = np.column_stack((test_input**2, test_input))"
      ],
      "metadata": {
        "id": "wANo6_bC2KbT"
      },
      "execution_count": null,
      "outputs": []
    },
    {
      "cell_type": "code",
      "source": [
        "#열이 하나 늘어난 것을 확인할 수 있음\n",
        "print(train_ploy.shape, test_ploy.shape)"
      ],
      "metadata": {
        "colab": {
          "base_uri": "https://localhost:8080/"
        },
        "id": "cH8dMm-03j7o",
        "outputId": "64e1f836-255b-4b3c-d5c8-d5fdad72453c"
      },
      "execution_count": null,
      "outputs": [
        {
          "output_type": "stream",
          "name": "stdout",
          "text": [
            "(42, 2) (14, 2)\n"
          ]
        }
      ]
    },
    {
      "cell_type": "code",
      "source": [
        "#2차 곡선의 회귀 모델 학습\n",
        "lr = LinearRegression()\n",
        "lr.fit(train_ploy, train_target)\n",
        "\n",
        "#샘플을 학습시킬 때는 반드시 길이의 제곱과 길이를 함께 넣어주어야 한다.\n",
        "#훈련할 때 데이터셋의 형식을 맞춰주어야 함\n",
        "print(lr.predict([[50**2, 50]]))"
      ],
      "metadata": {
        "colab": {
          "base_uri": "https://localhost:8080/"
        },
        "id": "dt21chNt4HHY",
        "outputId": "e28e7d28-e917-4cd6-d754-8d00fa99cdcf"
      },
      "execution_count": null,
      "outputs": [
        {
          "output_type": "stream",
          "name": "stdout",
          "text": [
            "[1573.98423528]\n"
          ]
        }
      ]
    },
    {
      "cell_type": "code",
      "source": [
        "#이 모델이 훈련한 계수와 절편을 출력\n",
        "print(lr.coef_, lr.intercept_)"
      ],
      "metadata": {
        "colab": {
          "base_uri": "https://localhost:8080/"
        },
        "id": "93cYLjY6419w",
        "outputId": "f8719a0c-d064-4059-c88f-90987ae829ac"
      },
      "execution_count": null,
      "outputs": [
        {
          "output_type": "stream",
          "name": "stdout",
          "text": [
            "[  1.01433211 -21.55792498] 116.05021078278276\n"
          ]
        }
      ]
    },
    {
      "cell_type": "code",
      "source": [
        "#훈련 세트의 산점도를 짧은 직선을 이어서 곡선처럼 표현함\n",
        "\n",
        "#구간별 직선을 그리기 위해 15에서 49까지 정수 배열을 만듦\n",
        "point = np.arange(15,49)\n",
        "\n",
        "#훈련 세트의 산점도를 그림\n",
        "plt.scatter(train_input, train_target)\n",
        "\n",
        "# 15에서 49까지 2차 방정식 그래프를 그림\n",
        "plt.plot(point, 1.01*point**2 + -21.6*point + 116.05)\n",
        "\n",
        "# 50cm 농어 데이터\n",
        "plt.scatter(50, 1574, marker='^')\n",
        "\n",
        "plt.xlabel('length')\n",
        "plt.ylabel('weight')\n",
        "plt.show()"
      ],
      "metadata": {
        "colab": {
          "base_uri": "https://localhost:8080/",
          "height": 279
        },
        "id": "5mbyl9305Jc6",
        "outputId": "682e454e-c67c-4c16-9304-16f494496939"
      },
      "execution_count": null,
      "outputs": [
        {
          "output_type": "display_data",
          "data": {
            "image/png": "[encoded data removed]",
            "text/plain": [
              "<Figure size 432x288 with 1 Axes>"
            ]
          },
          "metadata": {
            "needs_background": "light"
          }
        }
      ]
    },
    {
      "cell_type": "code",
      "source": [
        "#이제 훈련 세트와 테스트 세트의 R^2(결정계수) 점수를 평가함\n",
        "print(lr.score(train_ploy, train_target))\n",
        "print(lr.score(test_ploy,test_target))\n",
        "#아직 과소적합이 좀 남아있음"
      ],
      "metadata": {
        "colab": {
          "base_uri": "https://localhost:8080/"
        },
        "id": "M54BobiK6Kdr",
        "outputId": "6d1db46f-dfb0-4d2e-b94a-1bf83e26475a"
      },
      "execution_count": null,
      "outputs": [
        {
          "output_type": "stream",
          "name": "stdout",
          "text": [
            "0.9706807451768623\n",
            "0.9775935108325121\n"
          ]
        }
      ]
    }
  ]
}